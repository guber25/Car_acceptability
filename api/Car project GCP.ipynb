{
 "cells": [
  {
   "cell_type": "markdown",
   "id": "220497eb",
   "metadata": {},
   "source": [
    "### GCP project"
   ]
  },
  {
   "cell_type": "code",
   "execution_count": 1,
   "id": "b7c62b05",
   "metadata": {},
   "outputs": [],
   "source": [
    "import pandas as pd\n",
    "import numpy as np"
   ]
  },
  {
   "cell_type": "code",
   "execution_count": 2,
   "id": "63893197",
   "metadata": {},
   "outputs": [],
   "source": [
    "from sklearn.model_selection import train_test_split\n",
    "from sklearn.model_selection import cross_val_score,KFold\n",
    "from sklearn.neighbors import NearestNeighbors, KNeighborsClassifier\n",
    "from sklearn.metrics import classification_report, confusion_matrix\n",
    "from sklearn.linear_model import LogisticRegression\n",
    "from sklearn import metrics\n",
    "import pickle\n",
    "\n",
    "from sklearn.preprocessing import StandardScaler"
   ]
  },
  {
   "cell_type": "code",
   "execution_count": 3,
   "id": "7567c7c1",
   "metadata": {},
   "outputs": [
    {
     "data": {
      "text/html": [
       "<div>\n",
       "<style scoped>\n",
       "    .dataframe tbody tr th:only-of-type {\n",
       "        vertical-align: middle;\n",
       "    }\n",
       "\n",
       "    .dataframe tbody tr th {\n",
       "        vertical-align: top;\n",
       "    }\n",
       "\n",
       "    .dataframe thead th {\n",
       "        text-align: right;\n",
       "    }\n",
       "</style>\n",
       "<table border=\"1\" class=\"dataframe\">\n",
       "  <thead>\n",
       "    <tr style=\"text-align: right;\">\n",
       "      <th></th>\n",
       "      <th>Buying_Price</th>\n",
       "      <th>Maintenance_Price</th>\n",
       "      <th>No_of_Doors</th>\n",
       "      <th>Person_Capacity</th>\n",
       "      <th>Size_of_Luggage</th>\n",
       "      <th>Safety</th>\n",
       "      <th>Car_Acceptability</th>\n",
       "    </tr>\n",
       "  </thead>\n",
       "  <tbody>\n",
       "    <tr>\n",
       "      <th>0</th>\n",
       "      <td>vhigh</td>\n",
       "      <td>vhigh</td>\n",
       "      <td>2</td>\n",
       "      <td>2</td>\n",
       "      <td>small</td>\n",
       "      <td>low</td>\n",
       "      <td>unacc</td>\n",
       "    </tr>\n",
       "    <tr>\n",
       "      <th>1</th>\n",
       "      <td>vhigh</td>\n",
       "      <td>vhigh</td>\n",
       "      <td>2</td>\n",
       "      <td>2</td>\n",
       "      <td>small</td>\n",
       "      <td>med</td>\n",
       "      <td>unacc</td>\n",
       "    </tr>\n",
       "    <tr>\n",
       "      <th>2</th>\n",
       "      <td>vhigh</td>\n",
       "      <td>vhigh</td>\n",
       "      <td>2</td>\n",
       "      <td>2</td>\n",
       "      <td>small</td>\n",
       "      <td>high</td>\n",
       "      <td>unacc</td>\n",
       "    </tr>\n",
       "    <tr>\n",
       "      <th>3</th>\n",
       "      <td>vhigh</td>\n",
       "      <td>vhigh</td>\n",
       "      <td>2</td>\n",
       "      <td>2</td>\n",
       "      <td>med</td>\n",
       "      <td>low</td>\n",
       "      <td>unacc</td>\n",
       "    </tr>\n",
       "    <tr>\n",
       "      <th>4</th>\n",
       "      <td>vhigh</td>\n",
       "      <td>vhigh</td>\n",
       "      <td>2</td>\n",
       "      <td>2</td>\n",
       "      <td>med</td>\n",
       "      <td>med</td>\n",
       "      <td>unacc</td>\n",
       "    </tr>\n",
       "  </tbody>\n",
       "</table>\n",
       "</div>"
      ],
      "text/plain": [
       "  Buying_Price Maintenance_Price No_of_Doors Person_Capacity Size_of_Luggage  \\\n",
       "0        vhigh             vhigh           2               2           small   \n",
       "1        vhigh             vhigh           2               2           small   \n",
       "2        vhigh             vhigh           2               2           small   \n",
       "3        vhigh             vhigh           2               2             med   \n",
       "4        vhigh             vhigh           2               2             med   \n",
       "\n",
       "  Safety Car_Acceptability  \n",
       "0    low             unacc  \n",
       "1    med             unacc  \n",
       "2   high             unacc  \n",
       "3    low             unacc  \n",
       "4    med             unacc  "
      ]
     },
     "execution_count": 3,
     "metadata": {},
     "output_type": "execute_result"
    }
   ],
   "source": [
    "car=pd.read_csv(r\"C:\\Users\\gugli\\Python projects\\car.csv\")\n",
    "car.head()"
   ]
  },
  {
   "cell_type": "code",
   "execution_count": 4,
   "id": "a3ce2ecc",
   "metadata": {},
   "outputs": [],
   "source": [
    "car['Buying_Price'].replace({'low':1,'med':2,'high':3,'vhigh':4},inplace = True)\n",
    "car['No_of_Doors'].replace({'5more':5},inplace= True)\n",
    "car['Size_of_Luggage'].replace({'small':1,'med':2,'big':3},inplace = True)\n",
    "car['Safety'].replace({'low':1,'med':2,'high':3},inplace = True)\n",
    "car['Car_Acceptability'].replace({'unacc':0,'acc':1,'good':1,'vgood':1},inplace = True)\n",
    "car['Maintenance_Price'].replace({'low':1,'med':2,'high':3,'vhigh':4},inplace = True)\n",
    "car['Buying_Price']=car['Buying_Price'].astype(int)\n",
    "car['No_of_Doors'] = car['No_of_Doors'].astype(int)\n",
    "car['Size_of_Luggage']= car['Size_of_Luggage'].astype(int)\n",
    "car['Safety']=car['Safety'].astype(int)\n",
    "car['Car_Acceptability'] = car['Car_Acceptability'].astype(int)\n",
    "car['Maintenance_Price']= car['Maintenance_Price'].astype(int)\n",
    "car['Person_Capacity'].replace({\"more\":5},inplace = True)\n",
    "car['Person_Capacity']=car['Person_Capacity'].astype(int)"
   ]
  },
  {
   "cell_type": "code",
   "execution_count": 5,
   "id": "fb128ef8",
   "metadata": {},
   "outputs": [],
   "source": [
    "X = car.drop('Car_Acceptability',axis = 1)\n",
    "y = car['Car_Acceptability']"
   ]
  },
  {
   "cell_type": "code",
   "execution_count": 7,
   "id": "08e87c86",
   "metadata": {},
   "outputs": [
    {
     "data": {
      "text/html": [
       "<div>\n",
       "<style scoped>\n",
       "    .dataframe tbody tr th:only-of-type {\n",
       "        vertical-align: middle;\n",
       "    }\n",
       "\n",
       "    .dataframe tbody tr th {\n",
       "        vertical-align: top;\n",
       "    }\n",
       "\n",
       "    .dataframe thead th {\n",
       "        text-align: right;\n",
       "    }\n",
       "</style>\n",
       "<table border=\"1\" class=\"dataframe\">\n",
       "  <thead>\n",
       "    <tr style=\"text-align: right;\">\n",
       "      <th></th>\n",
       "      <th>Buying_Price</th>\n",
       "      <th>Maintenance_Price</th>\n",
       "      <th>No_of_Doors</th>\n",
       "      <th>Person_Capacity</th>\n",
       "      <th>Size_of_Luggage</th>\n",
       "      <th>Safety</th>\n",
       "    </tr>\n",
       "  </thead>\n",
       "  <tbody>\n",
       "    <tr>\n",
       "      <th>0</th>\n",
       "      <td>4</td>\n",
       "      <td>4</td>\n",
       "      <td>2</td>\n",
       "      <td>2</td>\n",
       "      <td>1</td>\n",
       "      <td>1</td>\n",
       "    </tr>\n",
       "    <tr>\n",
       "      <th>1</th>\n",
       "      <td>4</td>\n",
       "      <td>4</td>\n",
       "      <td>2</td>\n",
       "      <td>2</td>\n",
       "      <td>1</td>\n",
       "      <td>2</td>\n",
       "    </tr>\n",
       "    <tr>\n",
       "      <th>2</th>\n",
       "      <td>4</td>\n",
       "      <td>4</td>\n",
       "      <td>2</td>\n",
       "      <td>2</td>\n",
       "      <td>1</td>\n",
       "      <td>3</td>\n",
       "    </tr>\n",
       "    <tr>\n",
       "      <th>3</th>\n",
       "      <td>4</td>\n",
       "      <td>4</td>\n",
       "      <td>2</td>\n",
       "      <td>2</td>\n",
       "      <td>2</td>\n",
       "      <td>1</td>\n",
       "    </tr>\n",
       "    <tr>\n",
       "      <th>4</th>\n",
       "      <td>4</td>\n",
       "      <td>4</td>\n",
       "      <td>2</td>\n",
       "      <td>2</td>\n",
       "      <td>2</td>\n",
       "      <td>2</td>\n",
       "    </tr>\n",
       "    <tr>\n",
       "      <th>...</th>\n",
       "      <td>...</td>\n",
       "      <td>...</td>\n",
       "      <td>...</td>\n",
       "      <td>...</td>\n",
       "      <td>...</td>\n",
       "      <td>...</td>\n",
       "    </tr>\n",
       "    <tr>\n",
       "      <th>1723</th>\n",
       "      <td>1</td>\n",
       "      <td>1</td>\n",
       "      <td>5</td>\n",
       "      <td>5</td>\n",
       "      <td>2</td>\n",
       "      <td>2</td>\n",
       "    </tr>\n",
       "    <tr>\n",
       "      <th>1724</th>\n",
       "      <td>1</td>\n",
       "      <td>1</td>\n",
       "      <td>5</td>\n",
       "      <td>5</td>\n",
       "      <td>2</td>\n",
       "      <td>3</td>\n",
       "    </tr>\n",
       "    <tr>\n",
       "      <th>1725</th>\n",
       "      <td>1</td>\n",
       "      <td>1</td>\n",
       "      <td>5</td>\n",
       "      <td>5</td>\n",
       "      <td>3</td>\n",
       "      <td>1</td>\n",
       "    </tr>\n",
       "    <tr>\n",
       "      <th>1726</th>\n",
       "      <td>1</td>\n",
       "      <td>1</td>\n",
       "      <td>5</td>\n",
       "      <td>5</td>\n",
       "      <td>3</td>\n",
       "      <td>2</td>\n",
       "    </tr>\n",
       "    <tr>\n",
       "      <th>1727</th>\n",
       "      <td>1</td>\n",
       "      <td>1</td>\n",
       "      <td>5</td>\n",
       "      <td>5</td>\n",
       "      <td>3</td>\n",
       "      <td>3</td>\n",
       "    </tr>\n",
       "  </tbody>\n",
       "</table>\n",
       "<p>1728 rows × 6 columns</p>\n",
       "</div>"
      ],
      "text/plain": [
       "      Buying_Price  Maintenance_Price  No_of_Doors  Person_Capacity  \\\n",
       "0                4                  4            2                2   \n",
       "1                4                  4            2                2   \n",
       "2                4                  4            2                2   \n",
       "3                4                  4            2                2   \n",
       "4                4                  4            2                2   \n",
       "...            ...                ...          ...              ...   \n",
       "1723             1                  1            5                5   \n",
       "1724             1                  1            5                5   \n",
       "1725             1                  1            5                5   \n",
       "1726             1                  1            5                5   \n",
       "1727             1                  1            5                5   \n",
       "\n",
       "      Size_of_Luggage  Safety  \n",
       "0                   1       1  \n",
       "1                   1       2  \n",
       "2                   1       3  \n",
       "3                   2       1  \n",
       "4                   2       2  \n",
       "...               ...     ...  \n",
       "1723                2       2  \n",
       "1724                2       3  \n",
       "1725                3       1  \n",
       "1726                3       2  \n",
       "1727                3       3  \n",
       "\n",
       "[1728 rows x 6 columns]"
      ]
     },
     "execution_count": 7,
     "metadata": {},
     "output_type": "execute_result"
    }
   ],
   "source": [
    "X"
   ]
  },
  {
   "cell_type": "code",
   "execution_count": 7,
   "id": "244be4d5",
   "metadata": {},
   "outputs": [
    {
     "data": {
      "text/plain": [
       "0       0\n",
       "1       0\n",
       "2       0\n",
       "3       0\n",
       "4       0\n",
       "       ..\n",
       "1723    1\n",
       "1724    1\n",
       "1725    0\n",
       "1726    1\n",
       "1727    1\n",
       "Name: Car_Acceptability, Length: 1728, dtype: int32"
      ]
     },
     "execution_count": 7,
     "metadata": {},
     "output_type": "execute_result"
    }
   ],
   "source": [
    "y"
   ]
  },
  {
   "cell_type": "code",
   "execution_count": 8,
   "id": "6bd83796",
   "metadata": {},
   "outputs": [],
   "source": [
    "X_train, X_test, y_train, y_test = train_test_split(X, y, test_size=0.3,random_state=42)\n",
    "scaler = StandardScaler()\n",
    "X_train_scaled = scaler.fit_transform(X_train)\n",
    "X_test_scaled = scaler.fit_transform(X_test)"
   ]
  },
  {
   "cell_type": "code",
   "execution_count": 9,
   "id": "4e7b2d6e",
   "metadata": {},
   "outputs": [
    {
     "data": {
      "text/plain": [
       "[0.9595375722543352,\n",
       " 0.9190751445086706,\n",
       " 0.9633911368015414,\n",
       " 0.9595375722543352,\n",
       " 0.976878612716763,\n",
       " 0.9633911368015414,\n",
       " 0.9672447013487476,\n",
       " 0.9653179190751445,\n",
       " 0.976878612716763,\n",
       " 0.9653179190751445,\n",
       " 0.9749518304431599,\n",
       " 0.9672447013487476,\n",
       " 0.976878612716763,\n",
       " 0.9710982658959537]"
      ]
     },
     "execution_count": 9,
     "metadata": {},
     "output_type": "execute_result"
    }
   ],
   "source": [
    "k_range = range(1,15)\n",
    "score = []\n",
    "for k in k_range:\n",
    "    knn = KNeighborsClassifier(n_neighbors = k)\n",
    "    knn.fit(X_train_scaled,y_train)\n",
    "    y_pred = knn.predict(X_test_scaled)\n",
    "    score.append(metrics.accuracy_score(y_test,y_pred))\n",
    "score"
   ]
  },
  {
   "cell_type": "code",
   "execution_count": 10,
   "id": "4ba9198b",
   "metadata": {},
   "outputs": [
    {
     "data": {
      "text/plain": [
       "12"
      ]
     },
     "execution_count": 10,
     "metadata": {},
     "output_type": "execute_result"
    }
   ],
   "source": [
    "for i,j in enumerate(score):\n",
    "    if j==max(score):\n",
    "        max_v=i\n",
    "max_v"
   ]
  },
  {
   "cell_type": "code",
   "execution_count": 11,
   "id": "0ab8de1e",
   "metadata": {},
   "outputs": [
    {
     "ename": "NameError",
     "evalue": "name 'plt' is not defined",
     "output_type": "error",
     "traceback": [
      "\u001b[1;31m---------------------------------------------------------------------------\u001b[0m",
      "\u001b[1;31mNameError\u001b[0m                                 Traceback (most recent call last)",
      "\u001b[1;32m~\\AppData\\Local\\Temp\\ipykernel_3540\\61434718.py\u001b[0m in \u001b[0;36m<module>\u001b[1;34m\u001b[0m\n\u001b[1;32m----> 1\u001b[1;33m \u001b[0mplt\u001b[0m\u001b[1;33m.\u001b[0m\u001b[0mplot\u001b[0m\u001b[1;33m(\u001b[0m\u001b[0mscore\u001b[0m\u001b[1;33m)\u001b[0m\u001b[1;33m\u001b[0m\u001b[0m\n\u001b[0m\u001b[0;32m      2\u001b[0m \u001b[0mplt\u001b[0m\u001b[1;33m.\u001b[0m\u001b[0mshow\u001b[0m\u001b[1;33m(\u001b[0m\u001b[1;33m)\u001b[0m\u001b[1;33m\u001b[0m\u001b[0m\n",
      "\u001b[1;31mNameError\u001b[0m: name 'plt' is not defined"
     ]
    }
   ],
   "source": [
    "plt.plot(score)\n",
    "plt.show()"
   ]
  },
  {
   "cell_type": "code",
   "execution_count": 12,
   "id": "fe628e54",
   "metadata": {},
   "outputs": [
    {
     "name": "stdout",
     "output_type": "stream",
     "text": [
      "[[356   2]\n",
      " [ 15 146]]\n"
     ]
    }
   ],
   "source": [
    "model=KNeighborsClassifier(n_neighbors=max_v).fit(X_train_scaled,y_train)\n",
    "knn_p=model.predict(X_test_scaled)\n",
    "knn_cm=confusion_matrix(y_test,knn_p)\n",
    "print(knn_cm)"
   ]
  },
  {
   "cell_type": "code",
   "execution_count": 13,
   "id": "1d29b075",
   "metadata": {},
   "outputs": [
    {
     "data": {
      "text/plain": [
       "array([[356,   2],\n",
       "       [ 15, 146]], dtype=int64)"
      ]
     },
     "execution_count": 13,
     "metadata": {},
     "output_type": "execute_result"
    }
   ],
   "source": [
    "knn_cm"
   ]
  },
  {
   "cell_type": "code",
   "execution_count": 14,
   "id": "a1421fe1",
   "metadata": {},
   "outputs": [
    {
     "ename": "NameError",
     "evalue": "name 'sns' is not defined",
     "output_type": "error",
     "traceback": [
      "\u001b[1;31m---------------------------------------------------------------------------\u001b[0m",
      "\u001b[1;31mNameError\u001b[0m                                 Traceback (most recent call last)",
      "\u001b[1;32m~\\AppData\\Local\\Temp\\ipykernel_3540\\845718811.py\u001b[0m in \u001b[0;36m<module>\u001b[1;34m\u001b[0m\n\u001b[1;32m----> 1\u001b[1;33m \u001b[0msns\u001b[0m\u001b[1;33m.\u001b[0m\u001b[0mheatmap\u001b[0m\u001b[1;33m(\u001b[0m\u001b[0mdata\u001b[0m \u001b[1;33m=\u001b[0m \u001b[0mknn_cm\u001b[0m\u001b[1;33m,\u001b[0m\u001b[0mannot\u001b[0m \u001b[1;33m=\u001b[0m \u001b[1;32mTrue\u001b[0m\u001b[1;33m,\u001b[0m\u001b[0mfmt\u001b[0m\u001b[1;33m=\u001b[0m\u001b[1;34m'.2f'\u001b[0m\u001b[1;33m)\u001b[0m\u001b[1;33m;\u001b[0m\u001b[1;33m\u001b[0m\u001b[0m\n\u001b[0m",
      "\u001b[1;31mNameError\u001b[0m: name 'sns' is not defined"
     ]
    }
   ],
   "source": [
    "sns.heatmap(data = knn_cm,annot = True,fmt='.2f');"
   ]
  },
  {
   "cell_type": "code",
   "execution_count": 15,
   "id": "1266c6c4",
   "metadata": {},
   "outputs": [],
   "source": [
    "pickle.dump(model, open('model.pkl', 'wb'))"
   ]
  },
  {
   "cell_type": "code",
   "execution_count": 16,
   "id": "8c8eaaf0",
   "metadata": {},
   "outputs": [
    {
     "data": {
      "text/plain": [
       "0       0\n",
       "1       0\n",
       "2       0\n",
       "3       0\n",
       "4       0\n",
       "       ..\n",
       "1723    1\n",
       "1724    1\n",
       "1725    0\n",
       "1726    1\n",
       "1727    1\n",
       "Name: Car_Acceptability, Length: 1728, dtype: int32"
      ]
     },
     "execution_count": 16,
     "metadata": {},
     "output_type": "execute_result"
    }
   ],
   "source": [
    "y"
   ]
  }
 ],
 "metadata": {
  "kernelspec": {
   "display_name": "Python 3 (ipykernel)",
   "language": "python",
   "name": "python3"
  },
  "language_info": {
   "codemirror_mode": {
    "name": "ipython",
    "version": 3
   },
   "file_extension": ".py",
   "mimetype": "text/x-python",
   "name": "python",
   "nbconvert_exporter": "python",
   "pygments_lexer": "ipython3",
   "version": "3.7.0"
  }
 },
 "nbformat": 4,
 "nbformat_minor": 5
}
